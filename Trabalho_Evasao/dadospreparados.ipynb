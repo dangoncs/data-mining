{
 "cells": [
  {
   "metadata": {},
   "cell_type": "markdown",
   "source": "### Imports\n",
   "id": "f54ca4641409918d"
  },
  {
   "metadata": {
    "ExecuteTime": {
     "end_time": "2025-06-22T01:29:27.557062Z",
     "start_time": "2025-06-22T01:29:27.549201Z"
    }
   },
   "cell_type": "code",
   "source": [
    "import pandas as pd\n",
    "import matplotlib.pyplot as plt\n",
    "from keras.models import Sequential\n",
    "from keras.layers import Dense, Dropout"
   ],
   "id": "666845cceaa464d3",
   "outputs": [],
   "execution_count": 5
  },
  {
   "metadata": {},
   "cell_type": "markdown",
   "source": "### Reading the csv file",
   "id": "9314fbbea5bce03f"
  },
  {
   "metadata": {
    "collapsed": true,
    "ExecuteTime": {
     "end_time": "2025-06-22T01:29:27.976739Z",
     "start_time": "2025-06-22T01:29:27.616290Z"
    }
   },
   "cell_type": "code",
   "source": [
    "csv_file = 'dados_preparados.csv'\n",
    "df = pd.read_csv(csv_file)\n",
    "df.head()"
   ],
   "id": "initial_id",
   "outputs": [
    {
     "data": {
      "text/plain": [
       "   #_x      id  Ano Ingresso  Per. Ingresso                  Curso  \\\n",
       "0    1  +bwsow          2010              1  Ciência Da Computação   \n",
       "1    1  +bwsow          2010              1  Ciência Da Computação   \n",
       "2    1  +bwsow          2010              1  Ciência Da Computação   \n",
       "3    1  +bwsow          2010              1  Ciência Da Computação   \n",
       "4    1  +bwsow          2010              1  Ciência Da Computação   \n",
       "\n",
       "                     Forma de Ingresso Tipo de Cota Sigla Cota  \\\n",
       "0  SISU - Sistema de Seleção Unificada      Cotista    Cotista   \n",
       "1  SISU - Sistema de Seleção Unificada      Cotista    Cotista   \n",
       "2  SISU - Sistema de Seleção Unificada      Cotista    Cotista   \n",
       "3  SISU - Sistema de Seleção Unificada      Cotista    Cotista   \n",
       "4  SISU - Sistema de Seleção Unificada      Cotista    Cotista   \n",
       "\n",
       "  Escola Pública?  Coeficiente  ...  Cod. Disciplina  \\\n",
       "0  Escola Pública       0.0222  ...            CC31C   \n",
       "1  Escola Pública       0.0222  ...            CC31B   \n",
       "2  Escola Pública       0.0222  ...            CC31A   \n",
       "3  Escola Pública       0.0222  ...            CC31G   \n",
       "4  Escola Pública       0.0222  ...            CC31D   \n",
       "\n",
       "                        Nome Disciplina Per. Aluno  Ano Lanç. Per. Lanç. Nota  \\\n",
       "0    INTRODUÇÃO À CIÊNCIA DA COMPUTAÇÃO        1.0     2010.0        1.0  0.0   \n",
       "1                     LÓGICA MATEMÁTICA        1.0     2010.0        1.0  0.0   \n",
       "2                            ALGORITMOS        1.0     2010.0        1.0  0.0   \n",
       "3  GEOMETRIA ANALÍTICA E ÁLGEBRA LINEAR        1.0     2010.0        1.0  1.0   \n",
       "4      CÁLCULO DIFERENCIAL E INTEGRAL 1        1.0     2010.0        1.0  0.0   \n",
       "\n",
       "  Freq.(%)                 Situação Disc. Média da Turma  Qtde Alunos Turma  \n",
       "0     23.5  Reprovado por Nota/Frequência            6.0               46.0  \n",
       "1     71.1  Reprovado por Nota/Frequência            5.4               46.0  \n",
       "2     35.4  Reprovado por Nota/Frequência            5.7               45.0  \n",
       "3     16.2  Reprovado por Nota/Frequência            2.6               46.0  \n",
       "4     47.6  Reprovado por Nota/Frequência            3.2               46.0  \n",
       "\n",
       "[5 rows x 33 columns]"
      ],
      "text/html": [
       "<div>\n",
       "<style scoped>\n",
       "    .dataframe tbody tr th:only-of-type {\n",
       "        vertical-align: middle;\n",
       "    }\n",
       "\n",
       "    .dataframe tbody tr th {\n",
       "        vertical-align: top;\n",
       "    }\n",
       "\n",
       "    .dataframe thead th {\n",
       "        text-align: right;\n",
       "    }\n",
       "</style>\n",
       "<table border=\"1\" class=\"dataframe\">\n",
       "  <thead>\n",
       "    <tr style=\"text-align: right;\">\n",
       "      <th></th>\n",
       "      <th>#_x</th>\n",
       "      <th>id</th>\n",
       "      <th>Ano Ingresso</th>\n",
       "      <th>Per. Ingresso</th>\n",
       "      <th>Curso</th>\n",
       "      <th>Forma de Ingresso</th>\n",
       "      <th>Tipo de Cota</th>\n",
       "      <th>Sigla Cota</th>\n",
       "      <th>Escola Pública?</th>\n",
       "      <th>Coeficiente</th>\n",
       "      <th>...</th>\n",
       "      <th>Cod. Disciplina</th>\n",
       "      <th>Nome Disciplina</th>\n",
       "      <th>Per. Aluno</th>\n",
       "      <th>Ano Lanç.</th>\n",
       "      <th>Per. Lanç.</th>\n",
       "      <th>Nota</th>\n",
       "      <th>Freq.(%)</th>\n",
       "      <th>Situação Disc.</th>\n",
       "      <th>Média da Turma</th>\n",
       "      <th>Qtde Alunos Turma</th>\n",
       "    </tr>\n",
       "  </thead>\n",
       "  <tbody>\n",
       "    <tr>\n",
       "      <th>0</th>\n",
       "      <td>1</td>\n",
       "      <td>+bwsow</td>\n",
       "      <td>2010</td>\n",
       "      <td>1</td>\n",
       "      <td>Ciência Da Computação</td>\n",
       "      <td>SISU - Sistema de Seleção Unificada</td>\n",
       "      <td>Cotista</td>\n",
       "      <td>Cotista</td>\n",
       "      <td>Escola Pública</td>\n",
       "      <td>0.0222</td>\n",
       "      <td>...</td>\n",
       "      <td>CC31C</td>\n",
       "      <td>INTRODUÇÃO À CIÊNCIA DA COMPUTAÇÃO</td>\n",
       "      <td>1.0</td>\n",
       "      <td>2010.0</td>\n",
       "      <td>1.0</td>\n",
       "      <td>0.0</td>\n",
       "      <td>23.5</td>\n",
       "      <td>Reprovado por Nota/Frequência</td>\n",
       "      <td>6.0</td>\n",
       "      <td>46.0</td>\n",
       "    </tr>\n",
       "    <tr>\n",
       "      <th>1</th>\n",
       "      <td>1</td>\n",
       "      <td>+bwsow</td>\n",
       "      <td>2010</td>\n",
       "      <td>1</td>\n",
       "      <td>Ciência Da Computação</td>\n",
       "      <td>SISU - Sistema de Seleção Unificada</td>\n",
       "      <td>Cotista</td>\n",
       "      <td>Cotista</td>\n",
       "      <td>Escola Pública</td>\n",
       "      <td>0.0222</td>\n",
       "      <td>...</td>\n",
       "      <td>CC31B</td>\n",
       "      <td>LÓGICA MATEMÁTICA</td>\n",
       "      <td>1.0</td>\n",
       "      <td>2010.0</td>\n",
       "      <td>1.0</td>\n",
       "      <td>0.0</td>\n",
       "      <td>71.1</td>\n",
       "      <td>Reprovado por Nota/Frequência</td>\n",
       "      <td>5.4</td>\n",
       "      <td>46.0</td>\n",
       "    </tr>\n",
       "    <tr>\n",
       "      <th>2</th>\n",
       "      <td>1</td>\n",
       "      <td>+bwsow</td>\n",
       "      <td>2010</td>\n",
       "      <td>1</td>\n",
       "      <td>Ciência Da Computação</td>\n",
       "      <td>SISU - Sistema de Seleção Unificada</td>\n",
       "      <td>Cotista</td>\n",
       "      <td>Cotista</td>\n",
       "      <td>Escola Pública</td>\n",
       "      <td>0.0222</td>\n",
       "      <td>...</td>\n",
       "      <td>CC31A</td>\n",
       "      <td>ALGORITMOS</td>\n",
       "      <td>1.0</td>\n",
       "      <td>2010.0</td>\n",
       "      <td>1.0</td>\n",
       "      <td>0.0</td>\n",
       "      <td>35.4</td>\n",
       "      <td>Reprovado por Nota/Frequência</td>\n",
       "      <td>5.7</td>\n",
       "      <td>45.0</td>\n",
       "    </tr>\n",
       "    <tr>\n",
       "      <th>3</th>\n",
       "      <td>1</td>\n",
       "      <td>+bwsow</td>\n",
       "      <td>2010</td>\n",
       "      <td>1</td>\n",
       "      <td>Ciência Da Computação</td>\n",
       "      <td>SISU - Sistema de Seleção Unificada</td>\n",
       "      <td>Cotista</td>\n",
       "      <td>Cotista</td>\n",
       "      <td>Escola Pública</td>\n",
       "      <td>0.0222</td>\n",
       "      <td>...</td>\n",
       "      <td>CC31G</td>\n",
       "      <td>GEOMETRIA ANALÍTICA E ÁLGEBRA LINEAR</td>\n",
       "      <td>1.0</td>\n",
       "      <td>2010.0</td>\n",
       "      <td>1.0</td>\n",
       "      <td>1.0</td>\n",
       "      <td>16.2</td>\n",
       "      <td>Reprovado por Nota/Frequência</td>\n",
       "      <td>2.6</td>\n",
       "      <td>46.0</td>\n",
       "    </tr>\n",
       "    <tr>\n",
       "      <th>4</th>\n",
       "      <td>1</td>\n",
       "      <td>+bwsow</td>\n",
       "      <td>2010</td>\n",
       "      <td>1</td>\n",
       "      <td>Ciência Da Computação</td>\n",
       "      <td>SISU - Sistema de Seleção Unificada</td>\n",
       "      <td>Cotista</td>\n",
       "      <td>Cotista</td>\n",
       "      <td>Escola Pública</td>\n",
       "      <td>0.0222</td>\n",
       "      <td>...</td>\n",
       "      <td>CC31D</td>\n",
       "      <td>CÁLCULO DIFERENCIAL E INTEGRAL 1</td>\n",
       "      <td>1.0</td>\n",
       "      <td>2010.0</td>\n",
       "      <td>1.0</td>\n",
       "      <td>0.0</td>\n",
       "      <td>47.6</td>\n",
       "      <td>Reprovado por Nota/Frequência</td>\n",
       "      <td>3.2</td>\n",
       "      <td>46.0</td>\n",
       "    </tr>\n",
       "  </tbody>\n",
       "</table>\n",
       "<p>5 rows × 33 columns</p>\n",
       "</div>"
      ]
     },
     "execution_count": 6,
     "metadata": {},
     "output_type": "execute_result"
    }
   ],
   "execution_count": 6
  },
  {
   "metadata": {},
   "cell_type": "markdown",
   "source": "### Creating a Pandas dataframe",
   "id": "cd9a314fe8a74fac"
  },
  {
   "metadata": {},
   "cell_type": "markdown",
   "source": "TODO: normalização dos dados (sklearn.preprocessing.StandardScaler)",
   "id": "b7f83adf2c4142f1"
  },
  {
   "metadata": {
    "ExecuteTime": {
     "end_time": "2025-06-22T01:29:28.216060Z",
     "start_time": "2025-06-22T01:29:28.139645Z"
    }
   },
   "cell_type": "code",
   "source": [
    "df = df[['Nota', 'Média da Turma', 'Qtde Alunos Turma', 'Situação Atual do Aluno', 'Período do Aluno', 'Sigla Cota']]\n",
    "df = df.dropna()\n",
    "df = df.sample(frac=1, random_state=42).reset_index(drop=True)\n",
    "df['Sigla Cota'] = df['Sigla Cota'].apply(lambda valor: 0 if valor == 'Não cotista' else 1)\n",
    "y = df['Situação Atual do Aluno']\n",
    "y = y.apply(lambda valor: 0 if valor == 'Desistente' else 1)\n",
    "x = df[['Nota', 'Média da Turma', 'Qtde Alunos Turma', 'Período do Aluno', 'Sigla Cota']]"
   ],
   "id": "306335d708f2500d",
   "outputs": [],
   "execution_count": 7
  },
  {
   "metadata": {},
   "cell_type": "markdown",
   "source": "### Splitting train and test",
   "id": "aea21fe7d6580e7e"
  },
  {
   "metadata": {},
   "cell_type": "markdown",
   "source": "TODO: melhorar o data split -> sklearn.model_selection.train_test_split",
   "id": "943363e8d125395"
  },
  {
   "metadata": {
    "ExecuteTime": {
     "end_time": "2025-06-22T01:29:28.309854Z",
     "start_time": "2025-06-22T01:29:28.304629Z"
    }
   },
   "cell_type": "code",
   "source": [
    "x_treino, x_teste = x[0:10000], x[10000:12500]\n",
    "y_treino, y_teste = y[0:10000], y[10000:12500]"
   ],
   "id": "f1cb23c47a15326b",
   "outputs": [],
   "execution_count": 8
  },
  {
   "metadata": {},
   "cell_type": "markdown",
   "source": "### Function for testing the models",
   "id": "a87eed2b441d3ee4"
  },
  {
   "metadata": {
    "ExecuteTime": {
     "end_time": "2025-06-22T01:29:28.380939Z",
     "start_time": "2025-06-22T01:29:28.373342Z"
    }
   },
   "cell_type": "code",
   "source": [
    "def fit_neural_network(model):\n",
    "    model.compile(loss='binary_crossentropy', optimizer='adam', metrics=['accuracy'])\n",
    "    resultado = model.fit(x_treino, y_treino, epochs=50, batch_size=32, validation_data=(x_teste, y_teste))\n",
    "\n",
    "    plt.plot(resultado.history['loss'])\n",
    "    plt.plot(resultado.history['val_loss'])\n",
    "    plt.title('Histórico de Treinamento')\n",
    "    plt.ylabel('Função de custo')\n",
    "    plt.xlabel('Épocas de treinamento')\n",
    "    plt.legend(['Erro treino', 'Erro teste'])\n",
    "    plt.show()\n",
    "\n",
    "    return resultado"
   ],
   "id": "202ad7d1a55cac30",
   "outputs": [],
   "execution_count": 9
  },
  {
   "metadata": {},
   "cell_type": "markdown",
   "source": "### Simple neural network",
   "id": "1c24d7968f143f41"
  },
  {
   "metadata": {
    "ExecuteTime": {
     "end_time": "2025-06-22T01:30:21.784296Z",
     "start_time": "2025-06-22T01:29:28.527032Z"
    }
   },
   "cell_type": "code",
   "source": [
    "simple = Sequential()\n",
    "simple.add(Dense(units=3, activation='relu', input_dim=x_treino.shape[1]))\n",
    "simple.add(Dense(units=1, activation='sigmoid'))\n",
    "\n",
    "fit_neural_network(simple)"
   ],
   "id": "c8f6272453bcf704",
   "outputs": [
    {
     "name": "stdout",
     "output_type": "stream",
     "text": [
      "Epoch 1/50\n"
     ]
    },
    {
     "name": "stderr",
     "output_type": "stream",
     "text": [
      "/home/danilo/Repos/DataMining/.venv/lib/python3.12/site-packages/keras/src/layers/core/dense.py:93: UserWarning: Do not pass an `input_shape`/`input_dim` argument to a layer. When using Sequential models, prefer using an `Input(shape)` object as the first layer in the model instead.\n",
      "  super().__init__(activity_regularizer=activity_regularizer, **kwargs)\n",
      "2025-06-21 22:29:28.544134: E external/local_xla/xla/stream_executor/cuda/cuda_platform.cc:51] failed call to cuInit: INTERNAL: CUDA error: Failed call to cuInit: UNKNOWN ERROR (303)\n"
     ]
    },
    {
     "name": "stdout",
     "output_type": "stream",
     "text": [
      "\u001B[1m313/313\u001B[0m \u001B[32m━━━━━━━━━━━━━━━━━━━━\u001B[0m\u001B[37m\u001B[0m \u001B[1m3s\u001B[0m 4ms/step - accuracy: 0.4779 - loss: 1.3973 - val_accuracy: 0.5596 - val_loss: 0.5995\n",
      "Epoch 2/50\n",
      "\u001B[1m313/313\u001B[0m \u001B[32m━━━━━━━━━━━━━━━━━━━━\u001B[0m\u001B[37m\u001B[0m \u001B[1m1s\u001B[0m 4ms/step - accuracy: 0.6280 - loss: 0.5864 - val_accuracy: 0.6776 - val_loss: 0.5304\n",
      "Epoch 3/50\n",
      "\u001B[1m313/313\u001B[0m \u001B[32m━━━━━━━━━━━━━━━━━━━━\u001B[0m\u001B[37m\u001B[0m \u001B[1m1s\u001B[0m 3ms/step - accuracy: 0.6850 - loss: 0.5401 - val_accuracy: 0.7720 - val_loss: 0.4885\n",
      "Epoch 4/50\n",
      "\u001B[1m313/313\u001B[0m \u001B[32m━━━━━━━━━━━━━━━━━━━━\u001B[0m\u001B[37m\u001B[0m \u001B[1m1s\u001B[0m 3ms/step - accuracy: 0.7756 - loss: 0.4891 - val_accuracy: 0.7956 - val_loss: 0.4523\n",
      "Epoch 5/50\n",
      "\u001B[1m313/313\u001B[0m \u001B[32m━━━━━━━━━━━━━━━━━━━━\u001B[0m\u001B[37m\u001B[0m \u001B[1m1s\u001B[0m 3ms/step - accuracy: 0.7907 - loss: 0.4579 - val_accuracy: 0.8116 - val_loss: 0.4215\n",
      "Epoch 6/50\n",
      "\u001B[1m313/313\u001B[0m \u001B[32m━━━━━━━━━━━━━━━━━━━━\u001B[0m\u001B[37m\u001B[0m \u001B[1m1s\u001B[0m 4ms/step - accuracy: 0.8076 - loss: 0.4286 - val_accuracy: 0.8220 - val_loss: 0.3976\n",
      "Epoch 7/50\n",
      "\u001B[1m313/313\u001B[0m \u001B[32m━━━━━━━━━━━━━━━━━━━━\u001B[0m\u001B[37m\u001B[0m \u001B[1m1s\u001B[0m 4ms/step - accuracy: 0.8151 - loss: 0.4079 - val_accuracy: 0.8260 - val_loss: 0.3795\n",
      "Epoch 8/50\n",
      "\u001B[1m313/313\u001B[0m \u001B[32m━━━━━━━━━━━━━━━━━━━━\u001B[0m\u001B[37m\u001B[0m \u001B[1m1s\u001B[0m 3ms/step - accuracy: 0.8197 - loss: 0.4042 - val_accuracy: 0.8296 - val_loss: 0.3673\n",
      "Epoch 9/50\n",
      "\u001B[1m313/313\u001B[0m \u001B[32m━━━━━━━━━━━━━━━━━━━━\u001B[0m\u001B[37m\u001B[0m \u001B[1m1s\u001B[0m 3ms/step - accuracy: 0.8329 - loss: 0.3826 - val_accuracy: 0.8340 - val_loss: 0.3601\n",
      "Epoch 10/50\n",
      "\u001B[1m313/313\u001B[0m \u001B[32m━━━━━━━━━━━━━━━━━━━━\u001B[0m\u001B[37m\u001B[0m \u001B[1m1s\u001B[0m 3ms/step - accuracy: 0.8361 - loss: 0.3752 - val_accuracy: 0.8348 - val_loss: 0.3552\n",
      "Epoch 11/50\n",
      "\u001B[1m313/313\u001B[0m \u001B[32m━━━━━━━━━━━━━━━━━━━━\u001B[0m\u001B[37m\u001B[0m \u001B[1m1s\u001B[0m 4ms/step - accuracy: 0.8357 - loss: 0.3722 - val_accuracy: 0.8328 - val_loss: 0.3533\n",
      "Epoch 12/50\n",
      "\u001B[1m313/313\u001B[0m \u001B[32m━━━━━━━━━━━━━━━━━━━━\u001B[0m\u001B[37m\u001B[0m \u001B[1m1s\u001B[0m 3ms/step - accuracy: 0.8383 - loss: 0.3700 - val_accuracy: 0.8360 - val_loss: 0.3516\n",
      "Epoch 13/50\n",
      "\u001B[1m313/313\u001B[0m \u001B[32m━━━━━━━━━━━━━━━━━━━━\u001B[0m\u001B[37m\u001B[0m \u001B[1m1s\u001B[0m 3ms/step - accuracy: 0.8380 - loss: 0.3618 - val_accuracy: 0.8356 - val_loss: 0.3493\n",
      "Epoch 14/50\n",
      "\u001B[1m313/313\u001B[0m \u001B[32m━━━━━━━━━━━━━━━━━━━━\u001B[0m\u001B[37m\u001B[0m \u001B[1m1s\u001B[0m 3ms/step - accuracy: 0.8385 - loss: 0.3613 - val_accuracy: 0.8392 - val_loss: 0.3484\n",
      "Epoch 15/50\n",
      "\u001B[1m313/313\u001B[0m \u001B[32m━━━━━━━━━━━━━━━━━━━━\u001B[0m\u001B[37m\u001B[0m \u001B[1m1s\u001B[0m 3ms/step - accuracy: 0.8359 - loss: 0.3630 - val_accuracy: 0.8376 - val_loss: 0.3507\n",
      "Epoch 16/50\n",
      "\u001B[1m313/313\u001B[0m \u001B[32m━━━━━━━━━━━━━━━━━━━━\u001B[0m\u001B[37m\u001B[0m \u001B[1m1s\u001B[0m 3ms/step - accuracy: 0.8321 - loss: 0.3701 - val_accuracy: 0.8416 - val_loss: 0.3473\n",
      "Epoch 17/50\n",
      "\u001B[1m313/313\u001B[0m \u001B[32m━━━━━━━━━━━━━━━━━━━━\u001B[0m\u001B[37m\u001B[0m \u001B[1m1s\u001B[0m 3ms/step - accuracy: 0.8388 - loss: 0.3594 - val_accuracy: 0.8424 - val_loss: 0.3431\n",
      "Epoch 18/50\n",
      "\u001B[1m313/313\u001B[0m \u001B[32m━━━━━━━━━━━━━━━━━━━━\u001B[0m\u001B[37m\u001B[0m \u001B[1m1s\u001B[0m 3ms/step - accuracy: 0.8389 - loss: 0.3571 - val_accuracy: 0.8444 - val_loss: 0.3421\n",
      "Epoch 19/50\n",
      "\u001B[1m313/313\u001B[0m \u001B[32m━━━━━━━━━━━━━━━━━━━━\u001B[0m\u001B[37m\u001B[0m \u001B[1m1s\u001B[0m 3ms/step - accuracy: 0.8402 - loss: 0.3629 - val_accuracy: 0.8416 - val_loss: 0.3405\n",
      "Epoch 20/50\n",
      "\u001B[1m313/313\u001B[0m \u001B[32m━━━━━━━━━━━━━━━━━━━━\u001B[0m\u001B[37m\u001B[0m \u001B[1m1s\u001B[0m 3ms/step - accuracy: 0.8427 - loss: 0.3588 - val_accuracy: 0.8424 - val_loss: 0.3398\n",
      "Epoch 21/50\n",
      "\u001B[1m313/313\u001B[0m \u001B[32m━━━━━━━━━━━━━━━━━━━━\u001B[0m\u001B[37m\u001B[0m \u001B[1m1s\u001B[0m 3ms/step - accuracy: 0.8346 - loss: 0.3667 - val_accuracy: 0.8440 - val_loss: 0.3396\n",
      "Epoch 22/50\n",
      "\u001B[1m313/313\u001B[0m \u001B[32m━━━━━━━━━━━━━━━━━━━━\u001B[0m\u001B[37m\u001B[0m \u001B[1m1s\u001B[0m 3ms/step - accuracy: 0.8353 - loss: 0.3572 - val_accuracy: 0.8432 - val_loss: 0.3386\n",
      "Epoch 23/50\n",
      "\u001B[1m313/313\u001B[0m \u001B[32m━━━━━━━━━━━━━━━━━━━━\u001B[0m\u001B[37m\u001B[0m \u001B[1m1s\u001B[0m 3ms/step - accuracy: 0.8396 - loss: 0.3579 - val_accuracy: 0.8372 - val_loss: 0.3436\n",
      "Epoch 24/50\n",
      "\u001B[1m313/313\u001B[0m \u001B[32m━━━━━━━━━━━━━━━━━━━━\u001B[0m\u001B[37m\u001B[0m \u001B[1m1s\u001B[0m 3ms/step - accuracy: 0.8428 - loss: 0.3538 - val_accuracy: 0.8468 - val_loss: 0.3394\n",
      "Epoch 25/50\n",
      "\u001B[1m313/313\u001B[0m \u001B[32m━━━━━━━━━━━━━━━━━━━━\u001B[0m\u001B[37m\u001B[0m \u001B[1m1s\u001B[0m 3ms/step - accuracy: 0.8372 - loss: 0.3580 - val_accuracy: 0.8440 - val_loss: 0.3379\n",
      "Epoch 26/50\n",
      "\u001B[1m313/313\u001B[0m \u001B[32m━━━━━━━━━━━━━━━━━━━━\u001B[0m\u001B[37m\u001B[0m \u001B[1m1s\u001B[0m 3ms/step - accuracy: 0.8380 - loss: 0.3576 - val_accuracy: 0.8456 - val_loss: 0.3379\n",
      "Epoch 27/50\n",
      "\u001B[1m313/313\u001B[0m \u001B[32m━━━━━━━━━━━━━━━━━━━━\u001B[0m\u001B[37m\u001B[0m \u001B[1m1s\u001B[0m 3ms/step - accuracy: 0.8342 - loss: 0.3573 - val_accuracy: 0.8472 - val_loss: 0.3382\n",
      "Epoch 28/50\n",
      "\u001B[1m313/313\u001B[0m \u001B[32m━━━━━━━━━━━━━━━━━━━━\u001B[0m\u001B[37m\u001B[0m \u001B[1m1s\u001B[0m 3ms/step - accuracy: 0.8423 - loss: 0.3481 - val_accuracy: 0.8456 - val_loss: 0.3363\n",
      "Epoch 29/50\n",
      "\u001B[1m313/313\u001B[0m \u001B[32m━━━━━━━━━━━━━━━━━━━━\u001B[0m\u001B[37m\u001B[0m \u001B[1m1s\u001B[0m 3ms/step - accuracy: 0.8328 - loss: 0.3583 - val_accuracy: 0.8440 - val_loss: 0.3369\n",
      "Epoch 30/50\n",
      "\u001B[1m313/313\u001B[0m \u001B[32m━━━━━━━━━━━━━━━━━━━━\u001B[0m\u001B[37m\u001B[0m \u001B[1m1s\u001B[0m 3ms/step - accuracy: 0.8394 - loss: 0.3534 - val_accuracy: 0.8468 - val_loss: 0.3375\n",
      "Epoch 31/50\n",
      "\u001B[1m313/313\u001B[0m \u001B[32m━━━━━━━━━━━━━━━━━━━━\u001B[0m\u001B[37m\u001B[0m \u001B[1m1s\u001B[0m 3ms/step - accuracy: 0.8314 - loss: 0.3637 - val_accuracy: 0.8456 - val_loss: 0.3361\n",
      "Epoch 32/50\n",
      "\u001B[1m313/313\u001B[0m \u001B[32m━━━━━━━━━━━━━━━━━━━━\u001B[0m\u001B[37m\u001B[0m \u001B[1m1s\u001B[0m 3ms/step - accuracy: 0.8343 - loss: 0.3576 - val_accuracy: 0.8468 - val_loss: 0.3378\n",
      "Epoch 33/50\n",
      "\u001B[1m313/313\u001B[0m \u001B[32m━━━━━━━━━━━━━━━━━━━━\u001B[0m\u001B[37m\u001B[0m \u001B[1m1s\u001B[0m 3ms/step - accuracy: 0.8397 - loss: 0.3560 - val_accuracy: 0.8448 - val_loss: 0.3368\n",
      "Epoch 34/50\n",
      "\u001B[1m313/313\u001B[0m \u001B[32m━━━━━━━━━━━━━━━━━━━━\u001B[0m\u001B[37m\u001B[0m \u001B[1m1s\u001B[0m 3ms/step - accuracy: 0.8429 - loss: 0.3472 - val_accuracy: 0.8496 - val_loss: 0.3409\n",
      "Epoch 35/50\n",
      "\u001B[1m313/313\u001B[0m \u001B[32m━━━━━━━━━━━━━━━━━━━━\u001B[0m\u001B[37m\u001B[0m \u001B[1m1s\u001B[0m 3ms/step - accuracy: 0.8442 - loss: 0.3477 - val_accuracy: 0.8456 - val_loss: 0.3367\n",
      "Epoch 36/50\n",
      "\u001B[1m313/313\u001B[0m \u001B[32m━━━━━━━━━━━━━━━━━━━━\u001B[0m\u001B[37m\u001B[0m \u001B[1m1s\u001B[0m 3ms/step - accuracy: 0.8360 - loss: 0.3545 - val_accuracy: 0.8432 - val_loss: 0.3377\n",
      "Epoch 37/50\n",
      "\u001B[1m313/313\u001B[0m \u001B[32m━━━━━━━━━━━━━━━━━━━━\u001B[0m\u001B[37m\u001B[0m \u001B[1m1s\u001B[0m 3ms/step - accuracy: 0.8380 - loss: 0.3601 - val_accuracy: 0.8460 - val_loss: 0.3366\n",
      "Epoch 38/50\n",
      "\u001B[1m313/313\u001B[0m \u001B[32m━━━━━━━━━━━━━━━━━━━━\u001B[0m\u001B[37m\u001B[0m \u001B[1m1s\u001B[0m 3ms/step - accuracy: 0.8382 - loss: 0.3560 - val_accuracy: 0.8436 - val_loss: 0.3386\n",
      "Epoch 39/50\n",
      "\u001B[1m313/313\u001B[0m \u001B[32m━━━━━━━━━━━━━━━━━━━━\u001B[0m\u001B[37m\u001B[0m \u001B[1m1s\u001B[0m 3ms/step - accuracy: 0.8436 - loss: 0.3505 - val_accuracy: 0.8468 - val_loss: 0.3356\n",
      "Epoch 40/50\n",
      "\u001B[1m313/313\u001B[0m \u001B[32m━━━━━━━━━━━━━━━━━━━━\u001B[0m\u001B[37m\u001B[0m \u001B[1m1s\u001B[0m 3ms/step - accuracy: 0.8334 - loss: 0.3651 - val_accuracy: 0.8472 - val_loss: 0.3356\n",
      "Epoch 41/50\n",
      "\u001B[1m313/313\u001B[0m \u001B[32m━━━━━━━━━━━━━━━━━━━━\u001B[0m\u001B[37m\u001B[0m \u001B[1m1s\u001B[0m 3ms/step - accuracy: 0.8368 - loss: 0.3527 - val_accuracy: 0.8440 - val_loss: 0.3370\n",
      "Epoch 42/50\n",
      "\u001B[1m313/313\u001B[0m \u001B[32m━━━━━━━━━━━━━━━━━━━━\u001B[0m\u001B[37m\u001B[0m \u001B[1m1s\u001B[0m 4ms/step - accuracy: 0.8382 - loss: 0.3560 - val_accuracy: 0.8456 - val_loss: 0.3351\n",
      "Epoch 43/50\n",
      "\u001B[1m313/313\u001B[0m \u001B[32m━━━━━━━━━━━━━━━━━━━━\u001B[0m\u001B[37m\u001B[0m \u001B[1m1s\u001B[0m 3ms/step - accuracy: 0.8410 - loss: 0.3502 - val_accuracy: 0.8492 - val_loss: 0.3351\n",
      "Epoch 44/50\n",
      "\u001B[1m313/313\u001B[0m \u001B[32m━━━━━━━━━━━━━━━━━━━━\u001B[0m\u001B[37m\u001B[0m \u001B[1m1s\u001B[0m 3ms/step - accuracy: 0.8430 - loss: 0.3541 - val_accuracy: 0.8468 - val_loss: 0.3353\n",
      "Epoch 45/50\n",
      "\u001B[1m313/313\u001B[0m \u001B[32m━━━━━━━━━━━━━━━━━━━━\u001B[0m\u001B[37m\u001B[0m \u001B[1m1s\u001B[0m 3ms/step - accuracy: 0.8455 - loss: 0.3450 - val_accuracy: 0.8468 - val_loss: 0.3357\n",
      "Epoch 46/50\n",
      "\u001B[1m313/313\u001B[0m \u001B[32m━━━━━━━━━━━━━━━━━━━━\u001B[0m\u001B[37m\u001B[0m \u001B[1m1s\u001B[0m 3ms/step - accuracy: 0.8342 - loss: 0.3560 - val_accuracy: 0.8468 - val_loss: 0.3359\n",
      "Epoch 47/50\n",
      "\u001B[1m313/313\u001B[0m \u001B[32m━━━━━━━━━━━━━━━━━━━━\u001B[0m\u001B[37m\u001B[0m \u001B[1m1s\u001B[0m 3ms/step - accuracy: 0.8358 - loss: 0.3601 - val_accuracy: 0.8480 - val_loss: 0.3360\n",
      "Epoch 48/50\n",
      "\u001B[1m313/313\u001B[0m \u001B[32m━━━━━━━━━━━━━━━━━━━━\u001B[0m\u001B[37m\u001B[0m \u001B[1m1s\u001B[0m 3ms/step - accuracy: 0.8387 - loss: 0.3505 - val_accuracy: 0.8468 - val_loss: 0.3381\n",
      "Epoch 49/50\n",
      "\u001B[1m313/313\u001B[0m \u001B[32m━━━━━━━━━━━━━━━━━━━━\u001B[0m\u001B[37m\u001B[0m \u001B[1m1s\u001B[0m 3ms/step - accuracy: 0.8381 - loss: 0.3589 - val_accuracy: 0.8476 - val_loss: 0.3350\n",
      "Epoch 50/50\n",
      "\u001B[1m313/313\u001B[0m \u001B[32m━━━━━━━━━━━━━━━━━━━━\u001B[0m\u001B[37m\u001B[0m \u001B[1m1s\u001B[0m 3ms/step - accuracy: 0.8358 - loss: 0.3607 - val_accuracy: 0.8448 - val_loss: 0.3370\n"
     ]
    },
    {
     "data": {
      "text/plain": [
       "<Figure size 640x480 with 1 Axes>"
      ],
      "image/png": "[encoded data removed]"
     },
     "metadata": {},
     "output_type": "display_data"
    },
    {
     "data": {
      "text/plain": [
       "<keras.src.callbacks.history.History at 0x7f7644fa9e20>"
      ]
     },
     "execution_count": 10,
     "metadata": {},
     "output_type": "execute_result"
    }
   ],
   "execution_count": 10
  },
  {
   "metadata": {},
   "cell_type": "markdown",
   "source": "### Deep neural network",
   "id": "c8610f5c4924c988"
  },
  {
   "metadata": {
    "ExecuteTime": {
     "end_time": "2025-06-22T01:48:34.515191Z",
     "start_time": "2025-06-22T01:47:36.501183Z"
    }
   },
   "cell_type": "code",
   "source": [
    "deep = Sequential()\n",
    "deep.add(Dense(units=16, activation='relu', input_dim=x_treino.shape[1]))  # Primeira camada oculta\n",
    "deep.add(Dropout(0.2))  # Regularização para evitar overfitting\n",
    "deep.add(Dense(units=8, activation='relu'))  # Segunda camada oculta\n",
    "deep.add(Dropout(0.2))  # Regularização\n",
    "deep.add(Dense(units=1, activation='sigmoid')) # Camada de saída\n",
    "\n",
    "fit_neural_network(deep)"
   ],
   "id": "d0a0ed076c08d5e2",
   "outputs": [
    {
     "name": "stdout",
     "output_type": "stream",
     "text": [
      "Epoch 1/50\n"
     ]
    },
    {
     "name": "stderr",
     "output_type": "stream",
     "text": [
      "/home/danilo/Repos/DataMining/.venv/lib/python3.12/site-packages/keras/src/layers/core/dense.py:93: UserWarning: Do not pass an `input_shape`/`input_dim` argument to a layer. When using Sequential models, prefer using an `Input(shape)` object as the first layer in the model instead.\n",
      "  super().__init__(activity_regularizer=activity_regularizer, **kwargs)\n"
     ]
    },
    {
     "name": "stdout",
     "output_type": "stream",
     "text": [
      "\u001B[1m313/313\u001B[0m \u001B[32m━━━━━━━━━━━━━━━━━━━━\u001B[0m\u001B[37m\u001B[0m \u001B[1m3s\u001B[0m 4ms/step - accuracy: 0.5490 - loss: 1.4595 - val_accuracy: 0.6816 - val_loss: 0.5127\n",
      "Epoch 2/50\n",
      "\u001B[1m313/313\u001B[0m \u001B[32m━━━━━━━━━━━━━━━━━━━━\u001B[0m\u001B[37m\u001B[0m \u001B[1m1s\u001B[0m 3ms/step - accuracy: 0.6815 - loss: 0.5747 - val_accuracy: 0.6816 - val_loss: 0.4647\n",
      "Epoch 3/50\n",
      "\u001B[1m313/313\u001B[0m \u001B[32m━━━━━━━━━━━━━━━━━━━━\u001B[0m\u001B[37m\u001B[0m \u001B[1m1s\u001B[0m 3ms/step - accuracy: 0.6920 - loss: 0.5108 - val_accuracy: 0.8268 - val_loss: 0.4414\n",
      "Epoch 4/50\n",
      "\u001B[1m313/313\u001B[0m \u001B[32m━━━━━━━━━━━━━━━━━━━━\u001B[0m\u001B[37m\u001B[0m \u001B[1m1s\u001B[0m 3ms/step - accuracy: 0.7409 - loss: 0.4928 - val_accuracy: 0.8360 - val_loss: 0.4066\n",
      "Epoch 5/50\n",
      "\u001B[1m313/313\u001B[0m \u001B[32m━━━━━━━━━━━━━━━━━━━━\u001B[0m\u001B[37m\u001B[0m \u001B[1m3s\u001B[0m 10ms/step - accuracy: 0.7797 - loss: 0.4620 - val_accuracy: 0.8384 - val_loss: 0.3853\n",
      "Epoch 6/50\n",
      "\u001B[1m313/313\u001B[0m \u001B[32m━━━━━━━━━━━━━━━━━━━━\u001B[0m\u001B[37m\u001B[0m \u001B[1m2s\u001B[0m 8ms/step - accuracy: 0.7931 - loss: 0.4439 - val_accuracy: 0.8376 - val_loss: 0.3772\n",
      "Epoch 7/50\n",
      "\u001B[1m313/313\u001B[0m \u001B[32m━━━━━━━━━━━━━━━━━━━━\u001B[0m\u001B[37m\u001B[0m \u001B[1m1s\u001B[0m 4ms/step - accuracy: 0.7948 - loss: 0.4534 - val_accuracy: 0.8336 - val_loss: 0.3715\n",
      "Epoch 8/50\n",
      "\u001B[1m313/313\u001B[0m \u001B[32m━━━━━━━━━━━━━━━━━━━━\u001B[0m\u001B[37m\u001B[0m \u001B[1m1s\u001B[0m 3ms/step - accuracy: 0.7956 - loss: 0.4356 - val_accuracy: 0.8368 - val_loss: 0.3665\n",
      "Epoch 9/50\n",
      "\u001B[1m313/313\u001B[0m \u001B[32m━━━━━━━━━━━━━━━━━━━━\u001B[0m\u001B[37m\u001B[0m \u001B[1m1s\u001B[0m 3ms/step - accuracy: 0.7982 - loss: 0.4310 - val_accuracy: 0.8404 - val_loss: 0.3652\n",
      "Epoch 10/50\n",
      "\u001B[1m313/313\u001B[0m \u001B[32m━━━━━━━━━━━━━━━━━━━━\u001B[0m\u001B[37m\u001B[0m \u001B[1m1s\u001B[0m 4ms/step - accuracy: 0.8168 - loss: 0.4163 - val_accuracy: 0.8376 - val_loss: 0.3582\n",
      "Epoch 11/50\n",
      "\u001B[1m313/313\u001B[0m \u001B[32m━━━━━━━━━━━━━━━━━━━━\u001B[0m\u001B[37m\u001B[0m \u001B[1m1s\u001B[0m 3ms/step - accuracy: 0.8279 - loss: 0.4137 - val_accuracy: 0.8384 - val_loss: 0.3558\n",
      "Epoch 12/50\n",
      "\u001B[1m313/313\u001B[0m \u001B[32m━━━━━━━━━━━━━━━━━━━━\u001B[0m\u001B[37m\u001B[0m \u001B[1m1s\u001B[0m 3ms/step - accuracy: 0.8264 - loss: 0.4133 - val_accuracy: 0.8392 - val_loss: 0.3539\n",
      "Epoch 13/50\n",
      "\u001B[1m313/313\u001B[0m \u001B[32m━━━━━━━━━━━━━━━━━━━━\u001B[0m\u001B[37m\u001B[0m \u001B[1m1s\u001B[0m 3ms/step - accuracy: 0.8346 - loss: 0.3959 - val_accuracy: 0.8416 - val_loss: 0.3512\n",
      "Epoch 14/50\n",
      "\u001B[1m313/313\u001B[0m \u001B[32m━━━━━━━━━━━━━━━━━━━━\u001B[0m\u001B[37m\u001B[0m \u001B[1m1s\u001B[0m 3ms/step - accuracy: 0.8213 - loss: 0.4072 - val_accuracy: 0.8428 - val_loss: 0.3519\n",
      "Epoch 15/50\n",
      "\u001B[1m313/313\u001B[0m \u001B[32m━━━━━━━━━━━━━━━━━━━━\u001B[0m\u001B[37m\u001B[0m \u001B[1m1s\u001B[0m 3ms/step - accuracy: 0.8317 - loss: 0.4006 - val_accuracy: 0.8408 - val_loss: 0.3499\n",
      "Epoch 16/50\n",
      "\u001B[1m313/313\u001B[0m \u001B[32m━━━━━━━━━━━━━━━━━━━━\u001B[0m\u001B[37m\u001B[0m \u001B[1m1s\u001B[0m 3ms/step - accuracy: 0.8252 - loss: 0.4052 - val_accuracy: 0.8444 - val_loss: 0.3495\n",
      "Epoch 17/50\n",
      "\u001B[1m313/313\u001B[0m \u001B[32m━━━━━━━━━━━━━━━━━━━━\u001B[0m\u001B[37m\u001B[0m \u001B[1m1s\u001B[0m 3ms/step - accuracy: 0.8362 - loss: 0.3962 - val_accuracy: 0.8456 - val_loss: 0.3515\n",
      "Epoch 18/50\n",
      "\u001B[1m313/313\u001B[0m \u001B[32m━━━━━━━━━━━━━━━━━━━━\u001B[0m\u001B[37m\u001B[0m \u001B[1m1s\u001B[0m 3ms/step - accuracy: 0.8250 - loss: 0.4007 - val_accuracy: 0.8428 - val_loss: 0.3488\n",
      "Epoch 19/50\n",
      "\u001B[1m313/313\u001B[0m \u001B[32m━━━━━━━━━━━━━━━━━━━━\u001B[0m\u001B[37m\u001B[0m \u001B[1m1s\u001B[0m 3ms/step - accuracy: 0.8300 - loss: 0.4011 - val_accuracy: 0.8424 - val_loss: 0.3481\n",
      "Epoch 20/50\n",
      "\u001B[1m313/313\u001B[0m \u001B[32m━━━━━━━━━━━━━━━━━━━━\u001B[0m\u001B[37m\u001B[0m \u001B[1m1s\u001B[0m 3ms/step - accuracy: 0.8387 - loss: 0.3902 - val_accuracy: 0.8428 - val_loss: 0.3470\n",
      "Epoch 21/50\n",
      "\u001B[1m313/313\u001B[0m \u001B[32m━━━━━━━━━━━━━━━━━━━━\u001B[0m\u001B[37m\u001B[0m \u001B[1m1s\u001B[0m 3ms/step - accuracy: 0.8334 - loss: 0.3935 - val_accuracy: 0.8448 - val_loss: 0.3463\n",
      "Epoch 22/50\n",
      "\u001B[1m313/313\u001B[0m \u001B[32m━━━━━━━━━━━━━━━━━━━━\u001B[0m\u001B[37m\u001B[0m \u001B[1m1s\u001B[0m 3ms/step - accuracy: 0.8246 - loss: 0.4020 - val_accuracy: 0.8436 - val_loss: 0.3462\n",
      "Epoch 23/50\n",
      "\u001B[1m313/313\u001B[0m \u001B[32m━━━━━━━━━━━━━━━━━━━━\u001B[0m\u001B[37m\u001B[0m \u001B[1m1s\u001B[0m 3ms/step - accuracy: 0.8299 - loss: 0.3966 - val_accuracy: 0.8440 - val_loss: 0.3459\n",
      "Epoch 24/50\n",
      "\u001B[1m313/313\u001B[0m \u001B[32m━━━━━━━━━━━━━━━━━━━━\u001B[0m\u001B[37m\u001B[0m \u001B[1m1s\u001B[0m 3ms/step - accuracy: 0.8283 - loss: 0.4016 - val_accuracy: 0.8424 - val_loss: 0.3461\n",
      "Epoch 25/50\n",
      "\u001B[1m313/313\u001B[0m \u001B[32m━━━━━━━━━━━━━━━━━━━━\u001B[0m\u001B[37m\u001B[0m \u001B[1m1s\u001B[0m 3ms/step - accuracy: 0.8330 - loss: 0.3968 - val_accuracy: 0.8444 - val_loss: 0.3462\n",
      "Epoch 26/50\n",
      "\u001B[1m313/313\u001B[0m \u001B[32m━━━━━━━━━━━━━━━━━━━━\u001B[0m\u001B[37m\u001B[0m \u001B[1m1s\u001B[0m 3ms/step - accuracy: 0.8351 - loss: 0.4043 - val_accuracy: 0.8460 - val_loss: 0.3452\n",
      "Epoch 27/50\n",
      "\u001B[1m313/313\u001B[0m \u001B[32m━━━━━━━━━━━━━━━━━━━━\u001B[0m\u001B[37m\u001B[0m \u001B[1m1s\u001B[0m 3ms/step - accuracy: 0.8297 - loss: 0.4047 - val_accuracy: 0.8420 - val_loss: 0.3465\n",
      "Epoch 28/50\n",
      "\u001B[1m313/313\u001B[0m \u001B[32m━━━━━━━━━━━━━━━━━━━━\u001B[0m\u001B[37m\u001B[0m \u001B[1m1s\u001B[0m 3ms/step - accuracy: 0.8360 - loss: 0.3926 - val_accuracy: 0.8460 - val_loss: 0.3462\n",
      "Epoch 29/50\n",
      "\u001B[1m313/313\u001B[0m \u001B[32m━━━━━━━━━━━━━━━━━━━━\u001B[0m\u001B[37m\u001B[0m \u001B[1m1s\u001B[0m 3ms/step - accuracy: 0.8249 - loss: 0.4036 - val_accuracy: 0.8448 - val_loss: 0.3448\n",
      "Epoch 30/50\n",
      "\u001B[1m313/313\u001B[0m \u001B[32m━━━━━━━━━━━━━━━━━━━━\u001B[0m\u001B[37m\u001B[0m \u001B[1m1s\u001B[0m 3ms/step - accuracy: 0.8274 - loss: 0.4044 - val_accuracy: 0.8456 - val_loss: 0.3457\n",
      "Epoch 31/50\n",
      "\u001B[1m313/313\u001B[0m \u001B[32m━━━━━━━━━━━━━━━━━━━━\u001B[0m\u001B[37m\u001B[0m \u001B[1m1s\u001B[0m 3ms/step - accuracy: 0.8401 - loss: 0.3842 - val_accuracy: 0.8452 - val_loss: 0.3453\n",
      "Epoch 32/50\n",
      "\u001B[1m313/313\u001B[0m \u001B[32m━━━━━━━━━━━━━━━━━━━━\u001B[0m\u001B[37m\u001B[0m \u001B[1m1s\u001B[0m 3ms/step - accuracy: 0.8315 - loss: 0.3877 - val_accuracy: 0.8448 - val_loss: 0.3380\n",
      "Epoch 33/50\n",
      "\u001B[1m313/313\u001B[0m \u001B[32m━━━━━━━━━━━━━━━━━━━━\u001B[0m\u001B[37m\u001B[0m \u001B[1m1s\u001B[0m 3ms/step - accuracy: 0.8304 - loss: 0.3933 - val_accuracy: 0.8472 - val_loss: 0.3390\n",
      "Epoch 34/50\n",
      "\u001B[1m313/313\u001B[0m \u001B[32m━━━━━━━━━━━━━━━━━━━━\u001B[0m\u001B[37m\u001B[0m \u001B[1m1s\u001B[0m 3ms/step - accuracy: 0.8344 - loss: 0.3900 - val_accuracy: 0.8480 - val_loss: 0.3390\n",
      "Epoch 35/50\n",
      "\u001B[1m313/313\u001B[0m \u001B[32m━━━━━━━━━━━━━━━━━━━━\u001B[0m\u001B[37m\u001B[0m \u001B[1m1s\u001B[0m 3ms/step - accuracy: 0.8290 - loss: 0.3858 - val_accuracy: 0.8472 - val_loss: 0.3368\n",
      "Epoch 36/50\n",
      "\u001B[1m313/313\u001B[0m \u001B[32m━━━━━━━━━━━━━━━━━━━━\u001B[0m\u001B[37m\u001B[0m \u001B[1m1s\u001B[0m 3ms/step - accuracy: 0.8409 - loss: 0.3832 - val_accuracy: 0.8448 - val_loss: 0.3363\n",
      "Epoch 37/50\n",
      "\u001B[1m313/313\u001B[0m \u001B[32m━━━━━━━━━━━━━━━━━━━━\u001B[0m\u001B[37m\u001B[0m \u001B[1m1s\u001B[0m 3ms/step - accuracy: 0.8330 - loss: 0.3876 - val_accuracy: 0.8476 - val_loss: 0.3391\n",
      "Epoch 38/50\n",
      "\u001B[1m313/313\u001B[0m \u001B[32m━━━━━━━━━━━━━━━━━━━━\u001B[0m\u001B[37m\u001B[0m \u001B[1m1s\u001B[0m 3ms/step - accuracy: 0.8397 - loss: 0.3817 - val_accuracy: 0.8468 - val_loss: 0.3386\n",
      "Epoch 39/50\n",
      "\u001B[1m313/313\u001B[0m \u001B[32m━━━━━━━━━━━━━━━━━━━━\u001B[0m\u001B[37m\u001B[0m \u001B[1m1s\u001B[0m 3ms/step - accuracy: 0.8380 - loss: 0.3786 - val_accuracy: 0.8424 - val_loss: 0.3386\n",
      "Epoch 40/50\n",
      "\u001B[1m313/313\u001B[0m \u001B[32m━━━━━━━━━━━━━━━━━━━━\u001B[0m\u001B[37m\u001B[0m \u001B[1m1s\u001B[0m 3ms/step - accuracy: 0.8333 - loss: 0.3939 - val_accuracy: 0.8400 - val_loss: 0.3376\n",
      "Epoch 41/50\n",
      "\u001B[1m313/313\u001B[0m \u001B[32m━━━━━━━━━━━━━━━━━━━━\u001B[0m\u001B[37m\u001B[0m \u001B[1m1s\u001B[0m 3ms/step - accuracy: 0.8356 - loss: 0.3777 - val_accuracy: 0.8484 - val_loss: 0.3373\n",
      "Epoch 42/50\n",
      "\u001B[1m313/313\u001B[0m \u001B[32m━━━━━━━━━━━━━━━━━━━━\u001B[0m\u001B[37m\u001B[0m \u001B[1m1s\u001B[0m 3ms/step - accuracy: 0.8376 - loss: 0.3761 - val_accuracy: 0.8432 - val_loss: 0.3362\n",
      "Epoch 43/50\n",
      "\u001B[1m313/313\u001B[0m \u001B[32m━━━━━━━━━━━━━━━━━━━━\u001B[0m\u001B[37m\u001B[0m \u001B[1m1s\u001B[0m 3ms/step - accuracy: 0.8447 - loss: 0.3611 - val_accuracy: 0.8412 - val_loss: 0.3357\n",
      "Epoch 44/50\n",
      "\u001B[1m313/313\u001B[0m \u001B[32m━━━━━━━━━━━━━━━━━━━━\u001B[0m\u001B[37m\u001B[0m \u001B[1m1s\u001B[0m 3ms/step - accuracy: 0.8344 - loss: 0.3871 - val_accuracy: 0.8424 - val_loss: 0.3365\n",
      "Epoch 45/50\n",
      "\u001B[1m313/313\u001B[0m \u001B[32m━━━━━━━━━━━━━━━━━━━━\u001B[0m\u001B[37m\u001B[0m \u001B[1m1s\u001B[0m 3ms/step - accuracy: 0.8408 - loss: 0.3800 - val_accuracy: 0.8388 - val_loss: 0.3372\n",
      "Epoch 46/50\n",
      "\u001B[1m313/313\u001B[0m \u001B[32m━━━━━━━━━━━━━━━━━━━━\u001B[0m\u001B[37m\u001B[0m \u001B[1m1s\u001B[0m 3ms/step - accuracy: 0.8457 - loss: 0.3683 - val_accuracy: 0.8416 - val_loss: 0.3358\n",
      "Epoch 47/50\n",
      "\u001B[1m313/313\u001B[0m \u001B[32m━━━━━━━━━━━━━━━━━━━━\u001B[0m\u001B[37m\u001B[0m \u001B[1m1s\u001B[0m 3ms/step - accuracy: 0.8326 - loss: 0.3851 - val_accuracy: 0.8360 - val_loss: 0.3363\n",
      "Epoch 48/50\n",
      "\u001B[1m313/313\u001B[0m \u001B[32m━━━━━━━━━━━━━━━━━━━━\u001B[0m\u001B[37m\u001B[0m \u001B[1m1s\u001B[0m 3ms/step - accuracy: 0.8305 - loss: 0.3845 - val_accuracy: 0.8432 - val_loss: 0.3366\n",
      "Epoch 49/50\n",
      "\u001B[1m313/313\u001B[0m \u001B[32m━━━━━━━━━━━━━━━━━━━━\u001B[0m\u001B[37m\u001B[0m \u001B[1m1s\u001B[0m 3ms/step - accuracy: 0.8395 - loss: 0.3696 - val_accuracy: 0.8428 - val_loss: 0.3356\n",
      "Epoch 50/50\n",
      "\u001B[1m313/313\u001B[0m \u001B[32m━━━━━━━━━━━━━━━━━━━━\u001B[0m\u001B[37m\u001B[0m \u001B[1m1s\u001B[0m 3ms/step - accuracy: 0.8444 - loss: 0.3663 - val_accuracy: 0.8408 - val_loss: 0.3362\n"
     ]
    },
    {
     "data": {
      "text/plain": [
       "<Figure size 640x480 with 1 Axes>"
      ],
      "image/png": "[encoded data removed]"
     },
     "metadata": {},
     "output_type": "display_data"
    },
    {
     "data": {
      "text/plain": [
       "<keras.src.callbacks.history.History at 0x7f7643472ea0>"
      ]
     },
     "execution_count": 12,
     "metadata": {},
     "output_type": "execute_result"
    }
   ],
   "execution_count": 12
  }
 ],
 "metadata": {
  "kernelspec": {
   "display_name": "Python 3",
   "language": "python",
   "name": "python3"
  },
  "language_info": {
   "codemirror_mode": {
    "name": "ipython",
    "version": 2
   },
   "file_extension": ".py",
   "mimetype": "text/x-python",
   "name": "python",
   "nbconvert_exporter": "python",
   "pygments_lexer": "ipython2",
   "version": "2.7.6"
  }
 },
 "nbformat": 4,
 "nbformat_minor": 5
}
